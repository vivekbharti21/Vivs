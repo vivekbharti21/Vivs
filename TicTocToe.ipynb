{
 "cells": [
  {
   "cell_type": "code",
   "execution_count": 1,
   "metadata": {},
   "outputs": [],
   "source": [
    "def game_board(display_board):\n",
    "    from IPython.display import clear_output as clr\n",
    "    clr()\n",
    "    print(display_board[1] +  '|' + display_board[2]  +  '|' + display_board[3]   + '\\n' + '-----' + '\\n' +  display_board[4] +  '|' + display_board[5]  +  '|' +  display_board[6] + '\\n' + '-----' + '\\n' +  display_board[7] +  '|' + display_board[8]  +  '|' + display_board[9] )"
   ]
  },
  {
   "cell_type": "code",
   "execution_count": 2,
   "metadata": {},
   "outputs": [
    {
     "name": "stdout",
     "output_type": "stream",
     "text": [
      "x|o|o\n",
      "-----\n",
      "x|o|x\n",
      "-----\n",
      "o|x|o\n"
     ]
    }
   ],
   "source": [
    "test_game_board=['$','x','o','o','x','o','x','o','x','o']\n",
    "game_board(test_game_board)"
   ]
  },
  {
   "cell_type": "code",
   "execution_count": 3,
   "metadata": {},
   "outputs": [],
   "source": [
    "def welcome_players():\n",
    "    print(\"Welcome to Tic Tac Toe!!\")\n",
    "    "
   ]
  },
  {
   "cell_type": "code",
   "execution_count": 4,
   "metadata": {},
   "outputs": [
    {
     "data": {
      "text/plain": [
       "['$', 'x', 'o', '##', 'x', 'o', 'x', 'o', 'x', 'o']"
      ]
     },
     "execution_count": 4,
     "metadata": {},
     "output_type": "execute_result"
    }
   ],
   "source": [
    "def position_selection(board, player1_input, player_position):\n",
    "    \n",
    "    board[player_position]=player1_input\n",
    "    return board\n",
    "    \n",
    "position_selection(test_game_board,'##',3)"
   ]
  },
  {
   "cell_type": "code",
   "execution_count": 5,
   "metadata": {},
   "outputs": [],
   "source": [
    "def resume():\n",
    "    game_choise = input(\"Do you wish to play again : Y/N \")\n",
    "\n",
    "    if game_choise.upper() == 'Y':\n",
    "        return game_on()\n",
    "    \n",
    "    elif game_choise.upper() == 'N':\n",
    "        return \" Thank you!!\"\n",
    "    \n",
    "    else :\n",
    "        return \"you have made a wrong choice!!\"\n",
    "        "
   ]
  },
  {
   "cell_type": "code",
   "execution_count": 6,
   "metadata": {},
   "outputs": [],
   "source": [
    "def check_win(display_board):\n",
    "    if display_board[1] == display_board[2] == display_board[3] == 'X' :\n",
    "         return 'X'\n",
    "          \n",
    "    elif display_board[1] == display_board[4] == display_board[7] == 'X' :\n",
    "         return 'X'\n",
    "    \n",
    "    elif display_board[1] == display_board[5] == display_board[9] == 'X' :\n",
    "         return 'X'\n",
    "    \n",
    "    elif display_board[3] == display_board[5] == display_board[7] == 'X' :\n",
    "         return 'X'\n",
    "    \n",
    "       \n",
    "    elif display_board[2] == display_board[5] == display_board[8] == 'X' :\n",
    "         return 'X'\n",
    "        \n",
    "    elif display_board[1] == display_board[2] == display_board[3] == 'O' :\n",
    "         return 'O'\n",
    "    \n",
    "    elif display_board[1] == display_board[4] == display_board[7] == 'O' :\n",
    "         return 'O'\n",
    "    \n",
    "    elif display_board[1] == display_board[5] == display_board[9] == 'O' :\n",
    "         return 'O'\n",
    "\n",
    "    \n",
    "    elif display_board[3] == display_board[5] == display_board[7] == 'O' :\n",
    "        return 'O'\n",
    "    \n",
    "       \n",
    "    elif display_board[2] == display_board[5] == display_board[8] == 'O' :\n",
    "         return 'O'\n",
    "    "
   ]
  },
  {
   "cell_type": "code",
   "execution_count": 7,
   "metadata": {},
   "outputs": [
    {
     "name": "stdout",
     "output_type": "stream",
     "text": [
      "X|O|X\n",
      "-----\n",
      "O|X|O\n",
      "-----\n",
      "X||\n",
      "Player 1 is winner\n",
      "Do you wish to play again : Y/N N\n"
     ]
    }
   ],
   "source": [
    "def game_on():\n",
    "    welcome_players()\n",
    "    display_board = ['','','','','','','','','','']\n",
    "    play = True\n",
    "    Choise2 = ''\n",
    "    Choise1 = input(\"enter the choise X or O  :\")\n",
    "    print(\"Player1 has chosen {}\".format(Choise1))\n",
    "    if Choise1.upper() == 'X':\n",
    "        Choise2 = 'O'\n",
    "    elif Choise1.upper() == 'O':\n",
    "        Choise2 = 'X'\n",
    "    else :\n",
    "        play = False\n",
    "        print(\"You have entered a wrong value\")\n",
    "\n",
    "    while play:\n",
    "              \n",
    "        if '' in display_board:\n",
    "           \n",
    "                plr1_position=int(input(\"Player1, enter the position between (1-9) : \"))\n",
    "\n",
    "                if Choise1.upper() == 'X':\n",
    "                    position_selection(display_board,Choise1,plr1_position)\n",
    "                    game_board(display_board)\n",
    "                    if check_win(display_board) == 'X':\n",
    "                        print(\"Player 1 is winner\")\n",
    "                        play = False\n",
    "                        break\n",
    "                        \n",
    "                        \n",
    "                        \n",
    "                elif Choise1.upper() == 'O':\n",
    "                    position_selection(display_board,Choise1,plr1_position)\n",
    "                    game_board(display_board)\n",
    "                    if check_win(display_board) == 'O':\n",
    "                        print(\"Player 1 is winner\")\n",
    "                        play = False\n",
    "                        break\n",
    "   \n",
    "            \n",
    "\n",
    "                plr2_position=int(input(\"Player2, enter the position between (1-9) : \"))\n",
    "        \n",
    "                if Choise2.upper() == 'X':\n",
    "                    position_selection(display_board,Choise2,plr2_position)\n",
    "                    game_board(display_board)\n",
    "                    if check_win(display_board) == 'X':\n",
    "                        print(\"Player 2 is winner\")\n",
    "                        play = False\n",
    "                        break\n",
    "                        \n",
    "                        \n",
    "            \n",
    "                elif Choise2.upper() == 'O':\n",
    "                    position_selection(display_board,Choise2,plr2_position)\n",
    "                    game_board(display_board)\n",
    "                    if check_win(display_board) == 'O':\n",
    "                        print(\"Player 2 is winner\")\n",
    "                        play = False\n",
    "                        break\n",
    "                        \n",
    "            \n",
    "        else :\n",
    "            game_board(display_board)\n",
    "            play = False\n",
    "\n",
    "    if play == False :\n",
    "        resume()\n",
    "                \n",
    "game_on()\n",
    "    \n",
    "    "
   ]
  },
  {
   "cell_type": "markdown",
   "metadata": {},
   "source": []
  }
 ],
 "metadata": {
  "kernelspec": {
   "display_name": "Python 3",
   "language": "python",
   "name": "python3"
  },
  "language_info": {
   "codemirror_mode": {
    "name": "ipython",
    "version": 3
   },
   "file_extension": ".py",
   "mimetype": "text/x-python",
   "name": "python",
   "nbconvert_exporter": "python",
   "pygments_lexer": "ipython3",
   "version": "3.7.4"
  }
 },
 "nbformat": 4,
 "nbformat_minor": 2
}
